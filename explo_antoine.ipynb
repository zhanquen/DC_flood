{
 "cells": [
  {
   "cell_type": "code",
   "execution_count": 198,
   "metadata": {},
   "outputs": [],
   "source": [
    "from pathlib import Path\n",
    "import meshio\n",
    "from mesh_handler import xdmf_to_meshes, meshes_to_xdmf, vtu_to_mesh, mesh_to_vtu,  accessing_mesh_data, create_mock_mesh\n",
    "import torch"
   ]
  },
  {
   "cell_type": "code",
   "execution_count": 199,
   "metadata": {},
   "outputs": [],
   "source": [
    "folder_path = Path(\"../IDSC2025_AnXplore03\")\n",
    "\n",
    "xdmf_files = list(folder_path.rglob(\"*.xdmf\"))\n",
    "xdmf_files = [str(x) for x in xdmf_files]\n",
    "xdmf_file_path = xdmf_files[2]"
   ]
  },
  {
   "cell_type": "code",
   "execution_count": 200,
   "metadata": {},
   "outputs": [
    {
     "name": "stdout",
     "output_type": "stream",
     "text": [
      "Loaded 80 timesteps from ..\\IDSC2025_AnXplore03\\4Students_AnXplore03\\AllFields_Resultats_MESH_117.xdmf\n",
      "\n",
      "There are 16634 nodes in this mesh.\n",
      "First 5 nodes of the mesh: \n",
      "[[0.1255755  4.570036   1.235219  ]\n",
      " [0.39698863 4.5739017  1.2614987 ]\n",
      " [0.6789052  4.4941964  1.2035406 ]\n",
      " [0.9398925  4.381488   1.1121883 ]\n",
      " [1.2186548  4.293917   1.0842079 ]] \n",
      "\n",
      "Types of cells in the mesh: ['tetra']\n",
      "There are 82564 tetrahedral cells in this mesh.\n",
      "First 5 tetrahedral cells of the mesh: \n",
      "[[6449 6450 6451 6452]\n",
      " [6453 6454 6455 3295]\n",
      " [6456 6457 6458 6459]\n",
      " [6460 6461 6462 6463]\n",
      " [6464 4622 4617 3869]] \n",
      "\n",
      "Feature name: Vitesse / Feature shape: (16634, 3)\n",
      "Feature name: Pression / Feature shape: (16634,)\n"
     ]
    }
   ],
   "source": [
    "meshes = xdmf_to_meshes(xdmf_file_path)\n",
    "data_mesh = accessing_mesh_data(meshes[0])\n",
    "data_mesh"
   ]
  },
  {
   "cell_type": "code",
   "execution_count": 201,
   "metadata": {},
   "outputs": [],
   "source": [
    "mesh = meshes[0]\n",
    "nodes_xyz = mesh.points\n",
    "nodes_v = mesh.point_data[\"Vitesse\"]\n",
    "nodes_P = mesh.point_data[\"Pression\"]\n",
    "tetras = mesh.cells_dict[\"tetra\"]\n",
    "N = nodes_xyz.shape[0]"
   ]
  },
  {
   "cell_type": "code",
   "execution_count": 202,
   "metadata": {},
   "outputs": [],
   "source": [
    "import networkx as nx\n",
    "\n",
    "G = nx.Graph()\n",
    "\n",
    "for i, node in enumerate(nodes_xyz):\n",
    "    attrs = {\"pos\": nodes_xyz[i], \"v\": nodes_v[i], \"P\": nodes_P[i]}\n",
    "    G.add_node(i, **attrs)\n",
    "\n",
    "for tetra in tetras:\n",
    "    for i in range(len(tetra)):\n",
    "        for j in range(i + 1, len(tetra)):\n",
    "            G.add_edge(tetra[i], tetra[j])"
   ]
  },
  {
   "cell_type": "code",
   "execution_count": 203,
   "metadata": {},
   "outputs": [],
   "source": [
    "def graph_from_mesh(mesh : meshio.Mesh) -> nx.Graph:\n",
    "    nodes_xyz = mesh.points\n",
    "    nodes_v = mesh.point_data[\"Vitesse\"]\n",
    "    nodes_P = mesh.point_data[\"Pression\"]\n",
    "    tetras = mesh.cells_dict[\"tetra\"]\n",
    "    N = nodes_xyz.shape[0]\n",
    "    G = nx.Graph()\n",
    "    for i, node in enumerate(nodes_xyz):\n",
    "        attrs = {\"pos\": nodes_xyz[i], \"v\": nodes_v[i], \"P\": nodes_P[i]}\n",
    "        G.add_node(i, **attrs)\n",
    "    for tetra in tetras:\n",
    "        for i in range(len(tetra)):\n",
    "            for j in range(i + 1, len(tetra)):\n",
    "                G.add_edge(tetra[i], tetra[j])\n",
    "    return G"
   ]
  },
  {
   "cell_type": "code",
   "execution_count": null,
   "metadata": {},
   "outputs": [],
   "source": [
    "import numpy as np\n",
    "\n",
    "def nodes_summary(mesh : meshio.Mesh) -> np.ndarray:\n",
    "    nodes_xyz = torch.tensor(mesh.points, dtype=torch.float32)\n",
    "    nodes_v = torch.tensor(mesh.point_data[\"Vitesse\"], dtype=torch.float32)\n",
    "    nodes_P = torch.tensor(mesh.point_data[\"Pression\"], dtype=torch.float32)\n",
    "    tetras = torch.tensor(mesh.cells_dict[\"tetra\"], dtype=torch.int32)\n",
    "    nodes_all = torch.cat((nodes_xyz, nodes_v, nodes_P), dim=1)\n",
    "    return nodes_all\n",
    "\n",
    "def nodes_edges_from_mesh(mesh : meshio.Mesh) -> list[np.ndarray, np.ndarray]:\n",
    "    nodes_xyz = mesh.points\n",
    "    nodes_v = mesh.point_data[\"Vitesse\"]\n",
    "    nodes_P = mesh.point_data[\"Pression\"]\n",
    "    tetras = mesh.cells_dict[\"tetra\"]\n",
    "    nodes_xyz = torch.tensor(mesh.points, dtype=torch.float32)\n",
    "    nodes_v = torch.tensor(mesh.point_data[\"Vitesse\"], dtype=torch.float32)\n",
    "    nodes_P = torch.tensor(mesh.point_data[\"Pression\"], dtype=torch.float32)\n",
    "    tetras = torch.tensor(mesh.cells_dict[\"tetra\"], dtype=torch.int32)\n",
    "    nodes_all = torch.cat((nodes_xyz, nodes_v, nodes_P), dim=1)\n",
    "    edges_set = set()\n",
    "    for tetra in tetras:\n",
    "        for i in range(len(tetra)):\n",
    "            for j in range(i + 1, len(tetra)):\n",
    "                edge = tuple(sorted((tetra[i], tetra[j])))\n",
    "                edges_set.add(edge)\n",
    "    edges = torch.tensor(list(edges_set), dtype=torch.int32).t()\n",
    "    return nodes_all, edges"
   ]
  },
  {
   "cell_type": "code",
   "execution_count": 197,
   "metadata": {},
   "outputs": [],
   "source": [
    "import numpy as np\n",
    "\n",
    "def nodes_summary(mesh : meshio.Mesh) -> np.ndarray:\n",
    "    nodes_xyz = mesh.points\n",
    "    nodes_v = mesh.point_data[\"Vitesse\"]\n",
    "    nodes_P = mesh.point_data[\"Pression\"]\n",
    "    tetras = mesh.cells_dict[\"tetra\"]\n",
    "    nodes_all = np.hstack((nodes_xyz, nodes_v, np.expand_dims(nodes_P, axis=1)))\n",
    "    return nodes_all"
   ]
  },
  {
   "cell_type": "code",
   "execution_count": 172,
   "metadata": {},
   "outputs": [],
   "source": [
    "degrees = [G.degree[i] for i in G.nodes]"
   ]
  },
  {
   "cell_type": "code",
   "execution_count": 180,
   "metadata": {},
   "outputs": [
    {
     "data": {
      "image/png": "[encoded data removed]",
      "text/plain": [
       "<Figure size 640x480 with 1 Axes>"
      ]
     },
     "metadata": {},
     "output_type": "display_data"
    }
   ],
   "source": [
    "import matplotlib.pyplot as plt\n",
    "plt.hist(degrees, bins=100);"
   ]
  },
  {
   "cell_type": "code",
   "execution_count": 186,
   "metadata": {},
   "outputs": [
    {
     "data": {
      "text/plain": [
       "[4807, 2921, 2922, 2676, 5404, 5231, 76, 726, 1]"
      ]
     },
     "execution_count": 186,
     "metadata": {},
     "output_type": "execute_result"
    }
   ],
   "source": [
    "list(G.neighbors(0))"
   ]
  },
  {
   "cell_type": "code",
   "execution_count": 184,
   "metadata": {},
   "outputs": [
    {
     "data": {
      "text/plain": [
       "{'pos': array([-2.205367,  4.560882,  1.67214 ], dtype=float32),\n",
       " 'v': array([ 2.8116127e-13, -1.7383845e-14, -7.7049132e-14], dtype=float32),\n",
       " 'P': 169.13710021972656}"
      ]
     },
     "execution_count": 184,
     "metadata": {},
     "output_type": "execute_result"
    }
   ],
   "source": [
    "G.nodes[0]"
   ]
  },
  {
   "cell_type": "code",
   "execution_count": null,
   "metadata": {},
   "outputs": [],
   "source": []
  }
 ],
 "metadata": {
  "kernelspec": {
   "display_name": "base",
   "language": "python",
   "name": "python3"
  },
  "language_info": {
   "codemirror_mode": {
    "name": "ipython",
    "version": 3
   },
   "file_extension": ".py",
   "mimetype": "text/x-python",
   "name": "python",
   "nbconvert_exporter": "python",
   "pygments_lexer": "ipython3",
   "version": "3.9.19"
  }
 },
 "nbformat": 4,
 "nbformat_minor": 2
}
