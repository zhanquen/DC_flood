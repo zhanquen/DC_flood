{
 "cells": [
  {
   "cell_type": "code",
   "execution_count": 1,
   "metadata": {},
   "outputs": [],
   "source": [
    "from pathlib import Path\n",
    "from mesh_handler import meshes_to_xdmf\n",
    "from preprocessing_utils import convert_xdmf_to_torch, torch_to_meshes, compute_edge_weights\n",
    "import torch\n",
    "from tqdm import tqdm"
   ]
  },
  {
   "cell_type": "code",
   "execution_count": 2,
   "metadata": {},
   "outputs": [
    {
     "name": "stderr",
     "output_type": "stream",
     "text": [
      "  0%|          | 0/2 [00:00<?, ?it/s]"
     ]
    },
    {
     "name": "stdout",
     "output_type": "stream",
     "text": [
      "167.xdmf\n"
     ]
    },
    {
     "name": "stderr",
     "output_type": "stream",
     "text": [
      " 50%|█████     | 1/2 [00:01<00:01,  1.77s/it]"
     ]
    },
    {
     "name": "stdout",
     "output_type": "stream",
     "text": [
      "160.xdmf\n"
     ]
    },
    {
     "name": "stderr",
     "output_type": "stream",
     "text": [
      "100%|██████████| 2/2 [00:02<00:00,  1.20s/it]\n"
     ]
    }
   ],
   "source": [
    "CWD = Path.cwd()\n",
    "test_data_dir = CWD / \"4Students_Validation_cases_cropped\"\n",
    "cleaned_test_dir = CWD / \"data_cleaned_test\"\n",
    "\n",
    "convert_xdmf_to_torch(test_data_dir, cleaned_test_dir)"
   ]
  },
  {
   "cell_type": "code",
   "execution_count": 3,
   "metadata": {},
   "outputs": [
    {
     "data": {
      "text/plain": [
       "['160', '167']"
      ]
     },
     "execution_count": 3,
     "metadata": {},
     "output_type": "execute_result"
    }
   ],
   "source": [
    "mesh_fps = list(cleaned_test_dir.glob(\"*.pth\"))\n",
    "test_ids = [fp.name.split(\"_\")[1].split(\".\")[0] for fp in mesh_fps]\n",
    "test_ids"
   ]
  },
  {
   "cell_type": "code",
   "execution_count": 4,
   "metadata": {},
   "outputs": [
    {
     "name": "stdout",
     "output_type": "stream",
     "text": [
      "evaluating mesh 0 160\n"
     ]
    },
    {
     "name": "stderr",
     "output_type": "stream",
     "text": [
      "100%|██████████| 77/77 [00:00<00:00, 825.38it/s]\n"
     ]
    },
    {
     "ename": "FileNotFoundError",
     "evalue": "[Errno 2] No such file or directory: '/Users/jingzhan/DC_blood/demo/4Students_Validation_cases_cropped/TEST_AllFields_Resultats_MESH_160.xdmf'",
     "output_type": "error",
     "traceback": [
      "\u001b[0;31m---------------------------------------------------------------------------\u001b[0m",
      "\u001b[0;31mFileNotFoundError\u001b[0m                         Traceback (most recent call last)",
      "Cell \u001b[0;32mIn[4], line 57\u001b[0m\n\u001b[1;32m     55\u001b[0m \u001b[38;5;66;03m#################  \u001b[39;00m\n\u001b[1;32m     56\u001b[0m data \u001b[38;5;241m=\u001b[39m torch\u001b[38;5;241m.\u001b[39mload(cleaned_test_dir \u001b[38;5;241m/\u001b[39m \u001b[38;5;124mf\u001b[39m\u001b[38;5;124m\"\u001b[39m\u001b[38;5;124mmesh_\u001b[39m\u001b[38;5;132;01m{\u001b[39;00mmesh_id\u001b[38;5;132;01m}\u001b[39;00m\u001b[38;5;124m.pth\u001b[39m\u001b[38;5;124m\"\u001b[39m)\n\u001b[0;32m---> 57\u001b[0m meshes \u001b[38;5;241m=\u001b[39m \u001b[43mtorch_to_meshes\u001b[49m\u001b[43m(\u001b[49m\u001b[43mvP_tensor\u001b[49m\u001b[43m,\u001b[49m\u001b[43m \u001b[49m\u001b[43mxdmf_file_path\u001b[49m\u001b[43m)\u001b[49m\n\u001b[1;32m     58\u001b[0m out_xdmf_file_path \u001b[38;5;241m=\u001b[39m results_dir \u001b[38;5;241m/\u001b[39m src_filename\n\u001b[1;32m     59\u001b[0m meshes_to_xdmf(out_xdmf_file_path, meshes)\n",
      "File \u001b[0;32m~/DC_blood/demo/preprocessing_utils.py:90\u001b[0m, in \u001b[0;36mtorch_to_meshes\u001b[0;34m(vP_tensor, src_filepath)\u001b[0m\n\u001b[1;32m     80\u001b[0m \u001b[38;5;28;01mdef\u001b[39;00m \u001b[38;5;21mtorch_to_meshes\u001b[39m(vP_tensor: torch\u001b[38;5;241m.\u001b[39mTensor, src_filepath) \u001b[38;5;241m-\u001b[39m\u001b[38;5;241m>\u001b[39m meshio\u001b[38;5;241m.\u001b[39mMesh:\n\u001b[1;32m     81\u001b[0m \u001b[38;5;250m    \u001b[39m\u001b[38;5;124;03m\"\"\"\u001b[39;00m\n\u001b[1;32m     82\u001b[0m \u001b[38;5;124;03m    Converts PyTorch tensors back into a meshio Mesh object.\u001b[39;00m\n\u001b[1;32m     83\u001b[0m \n\u001b[0;32m   (...)\u001b[0m\n\u001b[1;32m     88\u001b[0m \u001b[38;5;124;03m    meshio.Mesh: A meshio Mesh object containing the mesh data.\u001b[39;00m\n\u001b[1;32m     89\u001b[0m \u001b[38;5;124;03m    \"\"\"\u001b[39;00m\n\u001b[0;32m---> 90\u001b[0m     meshes \u001b[38;5;241m=\u001b[39m \u001b[43mxdmf_to_meshes\u001b[49m\u001b[43m(\u001b[49m\u001b[43msrc_filepath\u001b[49m\u001b[43m,\u001b[49m\u001b[43m \u001b[49m\u001b[43mverbose\u001b[49m\u001b[38;5;241;43m=\u001b[39;49m\u001b[38;5;28;43;01mFalse\u001b[39;49;00m\u001b[43m)\u001b[49m\n\u001b[1;32m     91\u001b[0m     velocities \u001b[38;5;241m=\u001b[39m vP_tensor[:, :,\u001b[38;5;241m0\u001b[39m:\u001b[38;5;241m3\u001b[39m]\n\u001b[1;32m     92\u001b[0m     pressures \u001b[38;5;241m=\u001b[39m vP_tensor[:, :,\u001b[38;5;241m3\u001b[39m]\n",
      "File \u001b[0;32m~/DC_blood/demo/mesh_handler.py:20\u001b[0m, in \u001b[0;36mxdmf_to_meshes\u001b[0;34m(xdmf_file_path, verbose)\u001b[0m\n\u001b[1;32m     12\u001b[0m \u001b[38;5;28;01mdef\u001b[39;00m \u001b[38;5;21mxdmf_to_meshes\u001b[39m(xdmf_file_path: \u001b[38;5;28mstr\u001b[39m, verbose\u001b[38;5;241m=\u001b[39m\u001b[38;5;28;01mTrue\u001b[39;00m) \u001b[38;5;241m-\u001b[39m\u001b[38;5;241m>\u001b[39m List[meshio\u001b[38;5;241m.\u001b[39mMesh]:\n\u001b[1;32m     13\u001b[0m \u001b[38;5;250m    \u001b[39m\u001b[38;5;124;03m\"\"\"\u001b[39;00m\n\u001b[1;32m     14\u001b[0m \u001b[38;5;124;03m    Opens an XDMF archive file, and extract a data mesh object for every timestep.\u001b[39;00m\n\u001b[1;32m     15\u001b[0m \n\u001b[1;32m     16\u001b[0m \u001b[38;5;124;03m    xdmf_file_path: path to the .xdmf file.\u001b[39;00m\n\u001b[1;32m     17\u001b[0m \u001b[38;5;124;03m    Returns: list of data mesh objects.\u001b[39;00m\n\u001b[1;32m     18\u001b[0m \u001b[38;5;124;03m    \"\"\"\u001b[39;00m\n\u001b[0;32m---> 20\u001b[0m     reader \u001b[38;5;241m=\u001b[39m \u001b[43mmeshio\u001b[49m\u001b[38;5;241;43m.\u001b[39;49m\u001b[43mxdmf\u001b[49m\u001b[38;5;241;43m.\u001b[39;49m\u001b[43mTimeSeriesReader\u001b[49m\u001b[43m(\u001b[49m\u001b[43mxdmf_file_path\u001b[49m\u001b[43m)\u001b[49m\n\u001b[1;32m     21\u001b[0m     points, cells \u001b[38;5;241m=\u001b[39m reader\u001b[38;5;241m.\u001b[39mread_points_cells()\n\u001b[1;32m     22\u001b[0m     meshes \u001b[38;5;241m=\u001b[39m []\n",
      "File \u001b[0;32m/opt/homebrew/lib/python3.11/site-packages/meshio/xdmf/time_series.py:31\u001b[0m, in \u001b[0;36mTimeSeriesReader.__init__\u001b[0;34m(self, filename)\u001b[0m\n\u001b[1;32m     28\u001b[0m \u001b[38;5;28mself\u001b[39m\u001b[38;5;241m.\u001b[39mfilename \u001b[38;5;241m=\u001b[39m pathlib\u001b[38;5;241m.\u001b[39mPath(filename)\n\u001b[1;32m     30\u001b[0m parser \u001b[38;5;241m=\u001b[39m ET\u001b[38;5;241m.\u001b[39mXMLParser()\n\u001b[0;32m---> 31\u001b[0m tree \u001b[38;5;241m=\u001b[39m \u001b[43mET\u001b[49m\u001b[38;5;241;43m.\u001b[39;49m\u001b[43mparse\u001b[49m\u001b[43m(\u001b[49m\u001b[38;5;28;43mself\u001b[39;49m\u001b[38;5;241;43m.\u001b[39;49m\u001b[43mfilename\u001b[49m\u001b[43m,\u001b[49m\u001b[43m \u001b[49m\u001b[43mparser\u001b[49m\u001b[43m)\u001b[49m\n\u001b[1;32m     32\u001b[0m root \u001b[38;5;241m=\u001b[39m tree\u001b[38;5;241m.\u001b[39mgetroot()\n\u001b[1;32m     34\u001b[0m \u001b[38;5;28;01mif\u001b[39;00m root\u001b[38;5;241m.\u001b[39mtag \u001b[38;5;241m!=\u001b[39m \u001b[38;5;124m\"\u001b[39m\u001b[38;5;124mXdmf\u001b[39m\u001b[38;5;124m\"\u001b[39m:\n",
      "File \u001b[0;32m/opt/homebrew/Cellar/python@3.11/3.11.7_1/Frameworks/Python.framework/Versions/3.11/lib/python3.11/xml/etree/ElementTree.py:1218\u001b[0m, in \u001b[0;36mparse\u001b[0;34m(source, parser)\u001b[0m\n\u001b[1;32m   1209\u001b[0m \u001b[38;5;250m\u001b[39m\u001b[38;5;124;03m\"\"\"Parse XML document into element tree.\u001b[39;00m\n\u001b[1;32m   1210\u001b[0m \n\u001b[1;32m   1211\u001b[0m \u001b[38;5;124;03m*source* is a filename or file object containing XML data,\u001b[39;00m\n\u001b[0;32m   (...)\u001b[0m\n\u001b[1;32m   1215\u001b[0m \n\u001b[1;32m   1216\u001b[0m \u001b[38;5;124;03m\"\"\"\u001b[39;00m\n\u001b[1;32m   1217\u001b[0m tree \u001b[38;5;241m=\u001b[39m ElementTree()\n\u001b[0;32m-> 1218\u001b[0m \u001b[43mtree\u001b[49m\u001b[38;5;241;43m.\u001b[39;49m\u001b[43mparse\u001b[49m\u001b[43m(\u001b[49m\u001b[43msource\u001b[49m\u001b[43m,\u001b[49m\u001b[43m \u001b[49m\u001b[43mparser\u001b[49m\u001b[43m)\u001b[49m\n\u001b[1;32m   1219\u001b[0m \u001b[38;5;28;01mreturn\u001b[39;00m tree\n",
      "File \u001b[0;32m/opt/homebrew/Cellar/python@3.11/3.11.7_1/Frameworks/Python.framework/Versions/3.11/lib/python3.11/xml/etree/ElementTree.py:569\u001b[0m, in \u001b[0;36mElementTree.parse\u001b[0;34m(self, source, parser)\u001b[0m\n\u001b[1;32m    567\u001b[0m close_source \u001b[38;5;241m=\u001b[39m \u001b[38;5;28;01mFalse\u001b[39;00m\n\u001b[1;32m    568\u001b[0m \u001b[38;5;28;01mif\u001b[39;00m \u001b[38;5;129;01mnot\u001b[39;00m \u001b[38;5;28mhasattr\u001b[39m(source, \u001b[38;5;124m\"\u001b[39m\u001b[38;5;124mread\u001b[39m\u001b[38;5;124m\"\u001b[39m):\n\u001b[0;32m--> 569\u001b[0m     source \u001b[38;5;241m=\u001b[39m \u001b[38;5;28;43mopen\u001b[39;49m\u001b[43m(\u001b[49m\u001b[43msource\u001b[49m\u001b[43m,\u001b[49m\u001b[43m \u001b[49m\u001b[38;5;124;43m\"\u001b[39;49m\u001b[38;5;124;43mrb\u001b[39;49m\u001b[38;5;124;43m\"\u001b[39;49m\u001b[43m)\u001b[49m\n\u001b[1;32m    570\u001b[0m     close_source \u001b[38;5;241m=\u001b[39m \u001b[38;5;28;01mTrue\u001b[39;00m\n\u001b[1;32m    571\u001b[0m \u001b[38;5;28;01mtry\u001b[39;00m:\n",
      "\u001b[0;31mFileNotFoundError\u001b[0m: [Errno 2] No such file or directory: '/Users/jingzhan/DC_blood/demo/4Students_Validation_cases_cropped/TEST_AllFields_Resultats_MESH_160.xdmf'"
     ]
    }
   ],
   "source": [
    "REPLACE_INFLOW = True\n",
    "EDGES_WEIGHTS = True\n",
    "Path.mkdir(CWD / \"results\", exist_ok=True, parents=True)\n",
    "results_dir = CWD / \"results\"\n",
    "\n",
    "def mock_model(X_nodes, X_edges, edges_weights=None):\n",
    "    return torch.ones((X_nodes.shape[0], 4))\n",
    "model = mock_model\n",
    "\n",
    "device = torch.device(\"cuda\" if torch.cuda.is_available() else \"cpu\")\n",
    "#model = model.to(device)\n",
    "\n",
    "for i, mesh_id in enumerate(test_ids):\n",
    "    print(\"evaluating mesh\",i, mesh_id)\n",
    "    data = torch.load(cleaned_test_dir / f\"mesh_{mesh_id}.pth\")\n",
    "    nodes_feat = data[\"nodes\"]\n",
    "    edges_index = data[\"edges\"]\n",
    "    vP_tensor = torch.zeros((nodes_feat.shape[0], nodes_feat.shape[1], 4)).to(device)\n",
    "    vP_tensor[0,:,:4] = nodes_feat[0,:,3:7]\n",
    "    vP_tensor[1:,:,:4] = nodes_feat[1,:,3:7]\n",
    "    vP_tensor[2:,:,:4] = nodes_feat[2:,:,3:7]\n",
    "\n",
    "    X_init = nodes_feat[0,:,:]\n",
    "    N_nodes = X_init.shape[0]\n",
    "    wall_mask = torch.norm(X_init, p=2, dim=1, keepdim=True) > 1e-10  #wall on column 11\n",
    "    inflow_mask = ((X_init[:, 1] < 1e-2) & (X_init[:,4] > 0)).unsqueeze(-1)  #inflow on column 12\n",
    "    edges_weights = compute_edge_weights(edges_index, X_init)\n",
    "    \n",
    "    for t in tqdm(range(2, nodes_feat.shape[0]-1)):\n",
    "        if t==2:\n",
    "            X_nodes_now = nodes_feat[t,:,:]  #pos, speeds, P on col 0 to 6\n",
    "            X_nodes_past = nodes_feat[t-1,:,:]\n",
    "\n",
    "        X_nodes_future = nodes_feat[t+1,:,:]\n",
    "        accelerations = torch.zeros((N_nodes, 3))  #acceleration column 7 to 9\n",
    "        accelerations[:,:] =  (X_nodes_now[:,3:6] -  X_nodes_past[:,3:6])/0.01\n",
    "        time_steps=torch.full((N_nodes, 1), t)   #time on column 10\n",
    "        if REPLACE_INFLOW:\n",
    "            X_nodes_replace = X_nodes_now.clone()\n",
    "            X_nodes_replace[inflow_mask.squeeze(-1)] = X_nodes_future[inflow_mask.squeeze(-1)]\n",
    "            X_nodes_t = torch.cat([X_nodes_replace, accelerations, time_steps, wall_mask, inflow_mask], dim=-1)\n",
    "        else:\n",
    "            X_nodes_t = torch.cat([X_nodes_now, accelerations, time_steps, wall_mask, inflow_mask], dim=-1)\n",
    "        if EDGES_WEIGHTS:\n",
    "            out = model(X_nodes_t.to(device), edges_index.to(device), edges_weights.to(device))  #(n_nodes, 4)  4 being (vx, vy, vz, P)\n",
    "        else:\n",
    "            out = model(X_nodes_t.to(device), edges_index.to(device))  #(n_nodes, 4)  4 being (vx, vy, vz, P)\n",
    "        vP_tensor[t+1,:,:] = out.clone()    #store results\n",
    "        X_nodes_past = X_nodes_now\n",
    "        X_nodes_future[:,3:7] = out.clone()  #replace speeds with predicted speeds \n",
    "        X_nodes_now = X_nodes_future\n",
    "    #####TOADAPT###\n",
    "    src_filename = f\"TEST_AllFields_Resultats_MESH_{mesh_id}.xdmf\"\n",
    "    xdmf_file_path = test_data_dir / src_filename\n",
    "    #################  \n",
    "    data = torch.load(cleaned_test_dir / f\"mesh_{mesh_id}.pth\")\n",
    "    meshes = torch_to_meshes(vP_tensor, xdmf_file_path)\n",
    "    out_xdmf_file_path = results_dir / src_filename\n",
    "    meshes_to_xdmf(out_xdmf_file_path, meshes)"
   ]
  }
 ],
 "metadata": {
  "kernelspec": {
   "display_name": "Python 3",
   "language": "python",
   "name": "python3"
  },
  "language_info": {
   "codemirror_mode": {
    "name": "ipython",
    "version": 3
   },
   "file_extension": ".py",
   "mimetype": "text/x-python",
   "name": "python",
   "nbconvert_exporter": "python",
   "pygments_lexer": "ipython3",
   "version": "3.11.7"
  }
 },
 "nbformat": 4,
 "nbformat_minor": 2
}
