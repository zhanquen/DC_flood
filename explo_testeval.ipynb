{
 "cells": [
  {
   "cell_type": "code",
   "execution_count": null,
   "metadata": {},
   "outputs": [
    {
     "name": "stderr",
     "output_type": "stream",
     "text": [
      "c:\\Users\\33783\\miniconda3\\lib\\site-packages\\scipy\\__init__.py:146: UserWarning: A NumPy version >=1.16.5 and <1.23.0 is required for this version of SciPy (detected version 1.24.3\n",
      "  warnings.warn(f\"A NumPy version >={np_minversion} and <{np_maxversion}\"\n"
     ]
    }
   ],
   "source": [
    "from pathlib import Path\n",
    "from mesh_handler import meshes_to_xdmf\n",
    "from preprocessing_utils import convert_xdmf_to_torch, torch_to_meshes\n",
    "import torch\n",
    "from tqdm import tqdm"
   ]
  },
  {
   "cell_type": "code",
   "execution_count": 2,
   "metadata": {},
   "outputs": [
    {
     "name": "stderr",
     "output_type": "stream",
     "text": [
      "  0%|          | 0/1 [00:00<?, ?it/s]c:\\Users\\33783\\miniconda3\\lib\\site-packages\\h5py\\__init__.py:36: UserWarning: h5py is running against HDF5 1.12.2 when it was built against 1.12.1, this may cause problems\n",
      "  _warn((\"h5py is running against HDF5 {0} when it was built against {1}, \"\n",
      "100%|██████████| 1/1 [00:00<00:00,  1.29it/s]\n"
     ]
    }
   ],
   "source": [
    "CWD = Path.cwd()\n",
    "test_data_dir = CWD / \"IDSC2025_AnXplore_cropped_test_case/4Students_test_case_cropped\"\n",
    "cleaned_test_dir = CWD / \"data_cleaned_test\"\n",
    "convert_xdmf_to_torch(test_data_dir, cleaned_test_dir)"
   ]
  },
  {
   "cell_type": "code",
   "execution_count": 3,
   "metadata": {},
   "outputs": [],
   "source": [
    "mesh_fps = list(cleaned_test_dir.glob(\"*.pth\"))\n",
    "test_ids = [fp.name.split(\"_\")[1].split(\".\")[0] for fp in mesh_fps]"
   ]
  },
  {
   "cell_type": "code",
   "execution_count": 27,
   "metadata": {},
   "outputs": [],
   "source": [
    "REPLACE_INFLOW = False\n",
    "results_dir = Path.mkdir(CWD / \"results\", exist_ok=True, parents=True)\n",
    "\n",
    "def mock_model(X_nodes, X_edges):\n",
    "    return torch.ones((X_nodes.shape[0], 4))\n",
    "model = mock_model\n",
    "\n",
    "device = torch.device(\"cuda\" if torch.cuda.is_available() else \"cpu\")\n",
    "model = model.to(device)\n",
    "\n",
    "for i, mesh_id in enumerate(test_ids):\n",
    "    data = torch.load(cleaned_test_dir / f\"mesh_{mesh_id}.pth\")\n",
    "    nodes_feat = data[\"nodes\"]\n",
    "    edges_index = data[\"edges\"]\n",
    "    vP_tensor = torch.zeros((nodes_feat.shape[0], nodes_feat.shape[1], 4)).to(device)\n",
    "    vP_tensor[0,:,:4] = nodes_feat[0,:,3:7]\n",
    "    vP_tensor[1:,:,:4] = nodes_feat[1,:,3:7]\n",
    "    vP_tensor[2:,:,:4] = nodes_feat[2:,:,3:7]\n",
    "\n",
    "    X_init = nodes_feat[0,:,:]\n",
    "    N_nodes = X_init.shape[0]\n",
    "    wall_mask = torch.norm(X_init, p=2, dim=1, keepdim=True) > 1e-10  #wall on column 11\n",
    "    inflow_mask = ((X_init[:, 1] < 1e-2) & (X_init[:,4] > 0)).unsqueeze(-1)  #inflow on column 12\n",
    "\n",
    "    for t in tqdm(range(2, nodes_feat.shape[0]-1)):\n",
    "        if t==2:\n",
    "            X_nodes_now = nodes_feat[t,:,:]  #pos, speeds, P on col 0 to 6\n",
    "            X_nodes_past = nodes_feat[t-1,:,:]\n",
    "\n",
    "        X_nodes_future = nodes_feat[t+1,:,:]\n",
    "        accelerations = torch.zeros((N_nodes, 3))  #acceleration column 7 to 9\n",
    "        accelerations[:,:] =  (X_nodes_now[:,3:6] -  X_nodes_past[:,3:6])/0.01\n",
    "        time_steps=torch.full((N_nodes, 1), t)   #time on column 10\n",
    "        if REPLACE_INFLOW:\n",
    "            X_nodes_replace = X_nodes_now.clone()\n",
    "            X_nodes_replace[inflow_mask] = X_nodes_future[inflow_mask]\n",
    "            X_nodes_t = torch.cat([X_nodes_replace, accelerations, time_steps, wall_mask, inflow_mask], dim=-1)\n",
    "        else:\n",
    "            X_nodes_t = torch.cat([X_nodes_now, accelerations, time_steps, wall_mask, inflow_mask], dim=-1)\n",
    "\n",
    "        out = model(X_nodes_t.to(device), edges_index.to(device))  #(n_nodes, 4)  4 being (vx, vy, vz, P)\n",
    "        vP_tensor[t+1,:,:] = out.clone()    #store results\n",
    "        X_nodes_past = X_nodes_now\n",
    "        X_nodes_future[:,3:7] = out.clone()  #replace speeds with predicted speeds \n",
    "        X_nodes_now = X_nodes_future\n",
    "    #####TOADAPT###\n",
    "    src_filename = f\"TEST_AllFields_Resultats_MESH_{mesh_id}.xdmf\"\n",
    "    xdmf_file_path = test_data_dir / src_filename\n",
    "    #################  \n",
    "    data = torch.load(cleaned_test_dir / f\"mesh_{mesh_id}.pth\")\n",
    "    meshes = torch_to_meshes(vP_tensor, xdmf_file_path)\n",
    "    out_xdmf_file_path = results_dir / src_filename\n",
    "    meshes_to_xdmf(meshes, out_xdmf_file_path)"
   ]
  }
 ],
 "metadata": {
  "kernelspec": {
   "display_name": "base",
   "language": "python",
   "name": "python3"
  },
  "language_info": {
   "codemirror_mode": {
    "name": "ipython",
    "version": 3
   },
   "file_extension": ".py",
   "mimetype": "text/x-python",
   "name": "python",
   "nbconvert_exporter": "python",
   "pygments_lexer": "ipython3",
   "version": "3.9.19"
  }
 },
 "nbformat": 4,
 "nbformat_minor": 2
}
