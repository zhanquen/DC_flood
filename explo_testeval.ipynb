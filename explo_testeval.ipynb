{
 "cells": [
  {
   "cell_type": "code",
   "execution_count": 2,
   "metadata": {},
   "outputs": [],
   "source": [
    "from pathlib import Path\n",
    "from mesh_handler import meshes_to_xdmf\n",
    "from preprocessing_utils import convert_xdmf_to_torch, torch_to_meshes, compute_edge_weights\n",
    "import torch\n",
    "from tqdm import tqdm"
   ]
  },
  {
   "cell_type": "code",
   "execution_count": 3,
   "metadata": {},
   "outputs": [
    {
     "name": "stderr",
     "output_type": "stream",
     "text": [
      "  0%|          | 0/1 [00:00<?, ?it/s]c:\\Users\\33783\\miniconda3\\lib\\site-packages\\h5py\\__init__.py:36: UserWarning: h5py is running against HDF5 1.12.2 when it was built against 1.12.1, this may cause problems\n",
      "  _warn((\"h5py is running against HDF5 {0} when it was built against {1}, \"\n",
      "  0%|          | 0/1 [00:00<?, ?it/s]\n"
     ]
    },
    {
     "ename": "AttributeError",
     "evalue": "module 'torch' has no attribute '_utils'",
     "output_type": "error",
     "traceback": [
      "\u001b[1;31m---------------------------------------------------------------------------\u001b[0m",
      "\u001b[1;31mAttributeError\u001b[0m                            Traceback (most recent call last)",
      "Cell \u001b[1;32mIn[3], line 4\u001b[0m\n\u001b[0;32m      2\u001b[0m test_data_dir \u001b[38;5;241m=\u001b[39m CWD \u001b[38;5;241m/\u001b[39m \u001b[38;5;124m\"\u001b[39m\u001b[38;5;124mIDSC2025_AnXplore_cropped_test_case/4Students_test_case_cropped\u001b[39m\u001b[38;5;124m\"\u001b[39m\n\u001b[0;32m      3\u001b[0m cleaned_test_dir \u001b[38;5;241m=\u001b[39m CWD \u001b[38;5;241m/\u001b[39m \u001b[38;5;124m\"\u001b[39m\u001b[38;5;124mdata_cleaned_test\u001b[39m\u001b[38;5;124m\"\u001b[39m\n\u001b[1;32m----> 4\u001b[0m \u001b[43mconvert_xdmf_to_torch\u001b[49m\u001b[43m(\u001b[49m\u001b[43mtest_data_dir\u001b[49m\u001b[43m,\u001b[49m\u001b[43m \u001b[49m\u001b[43mcleaned_test_dir\u001b[49m\u001b[43m)\u001b[49m\n",
      "File \u001b[1;32mc:\\Users\\33783\\Desktop\\IDSC\\hackathon\\DC_flood\\preprocessing_utils.py:319\u001b[0m, in \u001b[0;36mconvert_xdmf_to_torch\u001b[1;34m(folder_path, out_dir)\u001b[0m\n\u001b[0;32m    317\u001b[0m meshes \u001b[38;5;241m=\u001b[39m xdmf_to_meshes(\u001b[38;5;28mstr\u001b[39m(xdmf_fp), verbose\u001b[38;5;241m=\u001b[39m\u001b[38;5;28;01mFalse\u001b[39;00m)\n\u001b[0;32m    318\u001b[0m X_nodes, X_edges \u001b[38;5;241m=\u001b[39m raw_to_torch(meshes)\n\u001b[1;32m--> 319\u001b[0m \u001b[43mtorch\u001b[49m\u001b[38;5;241;43m.\u001b[39;49m\u001b[43msave\u001b[49m\u001b[43m(\u001b[49m\u001b[43m{\u001b[49m\u001b[38;5;124;43m'\u001b[39;49m\u001b[38;5;124;43mnodes\u001b[39;49m\u001b[38;5;124;43m'\u001b[39;49m\u001b[43m:\u001b[49m\u001b[43m \u001b[49m\u001b[43mX_nodes\u001b[49m\u001b[43m,\u001b[49m\u001b[43m \u001b[49m\u001b[38;5;124;43m'\u001b[39;49m\u001b[38;5;124;43medges\u001b[39;49m\u001b[38;5;124;43m'\u001b[39;49m\u001b[43m:\u001b[49m\u001b[43m \u001b[49m\u001b[43mX_edges\u001b[49m\u001b[43m}\u001b[49m\u001b[43m,\u001b[49m\u001b[43m \u001b[49m\u001b[43mnew_filepath\u001b[49m\u001b[43m)\u001b[49m\n",
      "File \u001b[1;32mc:\\Users\\33783\\miniconda3\\lib\\site-packages\\torch\\serialization.py:379\u001b[0m, in \u001b[0;36msave\u001b[1;34m(obj, f, pickle_module, pickle_protocol, _use_new_zipfile_serialization)\u001b[0m\n\u001b[0;32m    377\u001b[0m \u001b[38;5;28;01mif\u001b[39;00m _use_new_zipfile_serialization:\n\u001b[0;32m    378\u001b[0m     \u001b[38;5;28;01mwith\u001b[39;00m _open_zipfile_writer(opened_file) \u001b[38;5;28;01mas\u001b[39;00m opened_zipfile:\n\u001b[1;32m--> 379\u001b[0m         \u001b[43m_save\u001b[49m\u001b[43m(\u001b[49m\u001b[43mobj\u001b[49m\u001b[43m,\u001b[49m\u001b[43m \u001b[49m\u001b[43mopened_zipfile\u001b[49m\u001b[43m,\u001b[49m\u001b[43m \u001b[49m\u001b[43mpickle_module\u001b[49m\u001b[43m,\u001b[49m\u001b[43m \u001b[49m\u001b[43mpickle_protocol\u001b[49m\u001b[43m)\u001b[49m\n\u001b[0;32m    380\u001b[0m         \u001b[38;5;28;01mreturn\u001b[39;00m\n\u001b[0;32m    381\u001b[0m _legacy_save(obj, opened_file, pickle_module, pickle_protocol)\n",
      "File \u001b[1;32mc:\\Users\\33783\\miniconda3\\lib\\site-packages\\torch\\serialization.py:589\u001b[0m, in \u001b[0;36m_save\u001b[1;34m(obj, zip_file, pickle_module, pickle_protocol)\u001b[0m\n\u001b[0;32m    587\u001b[0m pickler \u001b[38;5;241m=\u001b[39m pickle_module\u001b[38;5;241m.\u001b[39mPickler(data_buf, protocol\u001b[38;5;241m=\u001b[39mpickle_protocol)\n\u001b[0;32m    588\u001b[0m pickler\u001b[38;5;241m.\u001b[39mpersistent_id \u001b[38;5;241m=\u001b[39m persistent_id\n\u001b[1;32m--> 589\u001b[0m \u001b[43mpickler\u001b[49m\u001b[38;5;241;43m.\u001b[39;49m\u001b[43mdump\u001b[49m\u001b[43m(\u001b[49m\u001b[43mobj\u001b[49m\u001b[43m)\u001b[49m\n\u001b[0;32m    590\u001b[0m data_value \u001b[38;5;241m=\u001b[39m data_buf\u001b[38;5;241m.\u001b[39mgetvalue()\n\u001b[0;32m    591\u001b[0m zip_file\u001b[38;5;241m.\u001b[39mwrite_record(\u001b[38;5;124m'\u001b[39m\u001b[38;5;124mdata.pkl\u001b[39m\u001b[38;5;124m'\u001b[39m, data_value, \u001b[38;5;28mlen\u001b[39m(data_value))\n",
      "File \u001b[1;32mc:\\Users\\33783\\miniconda3\\lib\\site-packages\\torch\\_tensor.py:177\u001b[0m, in \u001b[0;36mTensor.__reduce_ex__\u001b[1;34m(self, proto)\u001b[0m\n\u001b[0;32m    175\u001b[0m \u001b[38;5;28;01mdef\u001b[39;00m \u001b[38;5;21m__reduce_ex__\u001b[39m(\u001b[38;5;28mself\u001b[39m, proto):\n\u001b[0;32m    176\u001b[0m     \u001b[38;5;28;01mif\u001b[39;00m \u001b[38;5;28mtype\u001b[39m(\u001b[38;5;28mself\u001b[39m) \u001b[38;5;129;01mis\u001b[39;00m Tensor:\n\u001b[1;32m--> 177\u001b[0m         \u001b[38;5;28;01mreturn\u001b[39;00m \u001b[38;5;28;43mself\u001b[39;49m\u001b[38;5;241;43m.\u001b[39;49m\u001b[43m_reduce_ex_internal\u001b[49m\u001b[43m(\u001b[49m\u001b[43mproto\u001b[49m\u001b[43m)\u001b[49m\n\u001b[0;32m    178\u001b[0m     \u001b[38;5;28;01mif\u001b[39;00m has_torch_function_unary(\u001b[38;5;28mself\u001b[39m):\n\u001b[0;32m    179\u001b[0m         \u001b[38;5;28;01mreturn\u001b[39;00m handle_torch_function(Tensor\u001b[38;5;241m.\u001b[39m__reduce_ex__, (\u001b[38;5;28mself\u001b[39m,), \u001b[38;5;28mself\u001b[39m, proto)\n",
      "File \u001b[1;32mc:\\Users\\33783\\miniconda3\\lib\\site-packages\\torch\\_tensor.py:312\u001b[0m, in \u001b[0;36mTensor._reduce_ex_internal\u001b[1;34m(self, proto)\u001b[0m\n\u001b[0;32m    300\u001b[0m \u001b[38;5;28;01melse\u001b[39;00m:\n\u001b[0;32m    301\u001b[0m     \u001b[38;5;66;03m# TODO: Once we decide to break serialization FC, no longer\u001b[39;00m\n\u001b[0;32m    302\u001b[0m     \u001b[38;5;66;03m# need to wrap with _TypedStorage\u001b[39;00m\n\u001b[0;32m    303\u001b[0m     args \u001b[38;5;241m=\u001b[39m (\n\u001b[0;32m    304\u001b[0m         torch\u001b[38;5;241m.\u001b[39mstorage\u001b[38;5;241m.\u001b[39m_TypedStorage(\n\u001b[0;32m    305\u001b[0m             wrap_storage\u001b[38;5;241m=\u001b[39m\u001b[38;5;28mself\u001b[39m\u001b[38;5;241m.\u001b[39mstorage()\u001b[38;5;241m.\u001b[39m_untyped(),\n\u001b[1;32m   (...)\u001b[0m\n\u001b[0;32m    310\u001b[0m         \u001b[38;5;28mself\u001b[39m\u001b[38;5;241m.\u001b[39mrequires_grad,\n\u001b[0;32m    311\u001b[0m         backward_hooks)  \u001b[38;5;66;03m# previously was self._backward_hooks\u001b[39;00m\n\u001b[1;32m--> 312\u001b[0m     \u001b[38;5;28;01mreturn\u001b[39;00m (\u001b[43mtorch\u001b[49m\u001b[38;5;241;43m.\u001b[39;49m\u001b[43m_utils\u001b[49m\u001b[38;5;241m.\u001b[39m_rebuild_tensor_v2, args)\n",
      "\u001b[1;31mAttributeError\u001b[0m: module 'torch' has no attribute '_utils'"
     ]
    }
   ],
   "source": [
    "CWD = Path.cwd()\n",
    "test_data_dir = CWD / \"IDSC2025_AnXplore_cropped_test_case/4Students_test_case_cropped\"\n",
    "cleaned_test_dir = CWD / \"data_cleaned_test\"\n",
    "convert_xdmf_to_torch(test_data_dir, cleaned_test_dir)"
   ]
  },
  {
   "cell_type": "code",
   "execution_count": 3,
   "metadata": {},
   "outputs": [],
   "source": [
    "mesh_fps = list(cleaned_test_dir.glob(\"*.pth\"))\n",
    "test_ids = [fp.name.split(\"_\")[1].split(\".\")[0] for fp in mesh_fps]"
   ]
  },
  {
   "cell_type": "code",
   "execution_count": 27,
   "metadata": {},
   "outputs": [],
   "source": [
    "REPLACE_INFLOW = False\n",
    "EDGES_WEIGHTS = True\n",
    "results_dir = Path.mkdir(CWD / \"results\", exist_ok=True, parents=True)\n",
    "\n",
    "def mock_model(X_nodes, X_edges):\n",
    "    return torch.ones((X_nodes.shape[0], 4))\n",
    "model = mock_model\n",
    "\n",
    "device = torch.device(\"cuda\" if torch.cuda.is_available() else \"cpu\")\n",
    "model = model.to(device)\n",
    "\n",
    "for i, mesh_id in enumerate(test_ids):\n",
    "    data = torch.load(cleaned_test_dir / f\"mesh_{mesh_id}.pth\")\n",
    "    nodes_feat = data[\"nodes\"]\n",
    "    edges_index = data[\"edges\"]\n",
    "    vP_tensor = torch.zeros((nodes_feat.shape[0], nodes_feat.shape[1], 4)).to(device)\n",
    "    vP_tensor[0,:,:4] = nodes_feat[0,:,3:7]\n",
    "    vP_tensor[1:,:,:4] = nodes_feat[1,:,3:7]\n",
    "    vP_tensor[2:,:,:4] = nodes_feat[2:,:,3:7]\n",
    "\n",
    "    X_init = nodes_feat[0,:,:]\n",
    "    N_nodes = X_init.shape[0]\n",
    "    wall_mask = torch.norm(X_init, p=2, dim=1, keepdim=True) > 1e-10  #wall on column 11\n",
    "    inflow_mask = ((X_init[:, 1] < 1e-2) & (X_init[:,4] > 0)).unsqueeze(-1)  #inflow on column 12\n",
    "    edges_weights = compute_edge_weights(edges_index, X_init)\n",
    "    \n",
    "    for t in tqdm(range(2, nodes_feat.shape[0]-1)):\n",
    "        if t==2:\n",
    "            X_nodes_now = nodes_feat[t,:,:]  #pos, speeds, P on col 0 to 6\n",
    "            X_nodes_past = nodes_feat[t-1,:,:]\n",
    "\n",
    "        X_nodes_future = nodes_feat[t+1,:,:]\n",
    "        accelerations = torch.zeros((N_nodes, 3))  #acceleration column 7 to 9\n",
    "        accelerations[:,:] =  (X_nodes_now[:,3:6] -  X_nodes_past[:,3:6])/0.01\n",
    "        time_steps=torch.full((N_nodes, 1), t)   #time on column 10\n",
    "        if REPLACE_INFLOW:\n",
    "            X_nodes_replace = X_nodes_now.clone()\n",
    "            X_nodes_replace[inflow_mask] = X_nodes_future[inflow_mask]\n",
    "            X_nodes_t = torch.cat([X_nodes_replace, accelerations, time_steps, wall_mask, inflow_mask], dim=-1)\n",
    "        else:\n",
    "            X_nodes_t = torch.cat([X_nodes_now, accelerations, time_steps, wall_mask, inflow_mask], dim=-1)\n",
    "        if EDGES_WEIGHTS:\n",
    "            out = model(X_nodes_t.to(device), edges_index.to(device), edges_weights.to(device))  #(n_nodes, 4)  4 being (vx, vy, vz, P)\n",
    "        else:\n",
    "            out = model(X_nodes_t.to(device), edges_index.to(device))  #(n_nodes, 4)  4 being (vx, vy, vz, P)\n",
    "        vP_tensor[t+1,:,:] = out.clone()    #store results\n",
    "        X_nodes_past = X_nodes_now\n",
    "        X_nodes_future[:,3:7] = out.clone()  #replace speeds with predicted speeds \n",
    "        X_nodes_now = X_nodes_future\n",
    "    #####TOADAPT###\n",
    "    src_filename = f\"TEST_AllFields_Resultats_MESH_{mesh_id}.xdmf\"\n",
    "    xdmf_file_path = test_data_dir / src_filename\n",
    "    #################  \n",
    "    data = torch.load(cleaned_test_dir / f\"mesh_{mesh_id}.pth\")\n",
    "    meshes = torch_to_meshes(vP_tensor, xdmf_file_path)\n",
    "    out_xdmf_file_path = results_dir / src_filename\n",
    "    meshes_to_xdmf(meshes, out_xdmf_file_path)"
   ]
  },
  {
   "cell_type": "code",
   "execution_count": null,
   "metadata": {},
   "outputs": [],
   "source": []
  }
 ],
 "metadata": {
  "kernelspec": {
   "display_name": "base",
   "language": "python",
   "name": "python3"
  },
  "language_info": {
   "codemirror_mode": {
    "name": "ipython",
    "version": 3
   },
   "file_extension": ".py",
   "mimetype": "text/x-python",
   "name": "python",
   "nbconvert_exporter": "python",
   "pygments_lexer": "ipython3",
   "version": "3.9.19"
  }
 },
 "nbformat": 4,
 "nbformat_minor": 2
}
