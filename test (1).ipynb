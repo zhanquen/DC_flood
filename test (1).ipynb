{
 "cells": [
  {
   "cell_type": "code",
   "execution_count": 63,
   "metadata": {},
   "outputs": [],
   "source": [
    "data_path = \"./AllFields_Resultats_MESH_1.xdmf\"\n",
    "from mesh_handler import *\n",
    "import numpy as np\n",
    "import torch\n",
    "import meshio"
   ]
  },
  {
   "cell_type": "code",
   "execution_count": 64,
   "metadata": {},
   "outputs": [
    {
     "name": "stdout",
     "output_type": "stream",
     "text": [
      "Loaded 80 timesteps from AllFields_Resultats_MESH_1.xdmf\n",
      "\n"
     ]
    }
   ],
   "source": [
    "meshes  = xdmf_to_meshes(data_path)"
   ]
  },
  {
   "cell_type": "code",
   "execution_count": 69,
   "metadata": {},
   "outputs": [],
   "source": [
    "mesh = meshes[0]\n",
    "# Charger le maillage tétraédrique\n",
    "def torch_input_features(mesh):\n",
    "    # Extraire les éléments tétraédriques\n",
    "    if \"tetra\" in mesh.cells_dict:\n",
    "        tetrahedrons = mesh.cells_dict[\"tetra\"]\n",
    "    else:\n",
    "        raise ValueError(\"Le maillage ne contient pas de tétraèdres.\")\n",
    "\n",
    "    # Construction des arêtes en reliant les sommets des tétraèdres\n",
    "    edges = np.vstack([\n",
    "        tetrahedrons[:, [0, 1]],  # Arête entre sommets 0 et 1\n",
    "        tetrahedrons[:, [0, 2]],  # Arête entre sommets 0 et 2\n",
    "        tetrahedrons[:, [0, 3]],  # Arête entre sommets 0 et 3\n",
    "        tetrahedrons[:, [1, 2]],  # Arête entre sommets 1 et 2\n",
    "        tetrahedrons[:, [1, 3]],  # Arête entre sommets 1 et 3\n",
    "        tetrahedrons[:, [2, 3]]   # Arête entre sommets 2 et 3\n",
    "    ])\n",
    "\n",
    "    # Suppression des doublons et tri des indices pour éviter les arêtes en double\n",
    "    edges = np.unique(np.sort(edges, axis=1), axis=0)\n",
    "\n",
    "    # Convertir en format edge_index pour PyTorch Geometric (format [2, num_edges])\n",
    "    edge_index = torch.tensor(edges.T, dtype=torch.int64)\n",
    "\n",
    "    print(\"Edge index format:\")\n",
    "    print(edge_index)\n",
    "\n",
    "\n",
    "    nodes_xyz = mesh.points\n",
    "    nodes_v = mesh.point_data[\"Vitesse\"]\n",
    "    nodes_P = mesh.point_data[\"Pression\"]\n",
    "    tetras = mesh.cells_dict[\"tetra\"]\n",
    "    nodes_all = torch.tensor(np.hstack((nodes_xyz, nodes_v, np.expand_dims(nodes_P, axis=1))), dtype= torch.float)\n",
    "    return nodes_all, edge_index\n",
    "\n",
    "\n",
    "def torch_output_features(mesh):\n",
    "\n",
    "    nodes_v = mesh.point_data[\"Vitesse\"]\n",
    "    nodes_P = mesh.point_data[\"Pression\"]\n",
    "    nodes_all = torch.tensor(np.hstack((nodes_v, np.expand_dims(nodes_P, axis=1))), dtype=torch.float)\n",
    "    \n",
    "    return nodes_all\n"
   ]
  },
  {
   "cell_type": "code",
   "execution_count": 72,
   "metadata": {},
   "outputs": [
    {
     "name": "stdout",
     "output_type": "stream",
     "text": [
      "Edge index format:\n",
      "tensor([[    0,     0,     0,  ..., 11422, 11430, 11435],\n",
      "        [    1,    76,   726,  ..., 11425, 11434, 11443]])\n"
     ]
    }
   ],
   "source": [
    "nodes_all, edge_index = torch_features(mesh)\n",
    "ground_truth = torch_output_features(meshes[1])\n"
   ]
  },
  {
   "cell_type": "code",
   "execution_count": 97,
   "metadata": {},
   "outputs": [],
   "source": [
    "import torch\n",
    "import torch.nn.functional as F\n",
    "from torch_geometric.nn import GCNConv\n",
    "\n",
    "class CFDGNN(torch.nn.Module):\n",
    "    def __init__(self, in_channels, hidden_channels, out_channels):\n",
    "        super(CFDGNN, self).__init__()\n",
    "        self.conv1 = GCNConv(in_channels, hidden_channels)\n",
    "        self.conv2 = GCNConv(hidden_channels, hidden_channels)\n",
    "        self.conv3 = GCNConv(hidden_channels, hidden_channels)\n",
    "        self.lin = torch.nn.Linear(hidden_channels, out_channels)\n",
    "        \n",
    "    def forward(self, x, edge_index):\n",
    "        x_0 = x[:,3:]\n",
    "        x = self.conv1(x, edge_index)\n",
    "        x = F.relu(x)\n",
    "        x = self.conv2(x, edge_index) \n",
    "        x = F.relu(x)\n",
    "        x = self.conv3(x, edge_index)\n",
    "        x = F.relu(x)\n",
    "        x = self.lin(x) + x_0\n",
    "        return  x\n",
    "\n",
    "# Initialisation\n",
    "model = CFDGNN(in_channels=7, hidden_channels=16, out_channels=4)\n",
    "optimizer = torch.optim.Adam(model.parameters(), lr=0.01)\n",
    "\n",
    "\n"
   ]
  },
  {
   "cell_type": "code",
   "execution_count": 100,
   "metadata": {},
   "outputs": [],
   "source": [
    "for epoch in range(1000):\n",
    "    optimizer.zero_grad()\n",
    "    out = model(nodes_all, edge_index)\n",
    "\n",
    "    loss = F.mse_loss(out, ground_truth)\n",
    "    loss.backward()\n",
    "    optimizer.step()\n",
    "    print(f'Epoch {epoch}, Loss: {loss.item()}')"
   ]
  },
  {
   "cell_type": "code",
   "execution_count": 102,
   "metadata": {},
   "outputs": [
    {
     "data": {
      "text/plain": [
       "tensor(1058.9080, grad_fn=<MseLossBackward0>)"
      ]
     },
     "execution_count": 102,
     "metadata": {},
     "output_type": "execute_result"
    }
   ],
   "source": [
    "loss"
   ]
  }
 ],
 "metadata": {
  "kernelspec": {
   "display_name": "env_challenge",
   "language": "python",
   "name": "python3"
  },
  "language_info": {
   "codemirror_mode": {
    "name": "ipython",
    "version": 3
   },
   "file_extension": ".py",
   "mimetype": "text/x-python",
   "name": "python",
   "nbconvert_exporter": "python",
   "pygments_lexer": "ipython3",
   "version": "3.12.7"
  }
 },
 "nbformat": 4,
 "nbformat_minor": 2
}
